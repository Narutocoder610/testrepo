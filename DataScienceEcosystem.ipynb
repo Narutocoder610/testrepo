{
 "cells": [
  {
   "cell_type": "markdown",
   "id": "80138407-4a30-4eb2-ba1e-e8734a2480f3",
   "metadata": {},
   "source": [
    "\n"
   ]
  },
  {
   "cell_type": "markdown",
   "id": "c9470aaf-c027-4dc7-826e-badd6921978f",
   "metadata": {},
   "source": [
    "# Data Science Tools and Ecosystem"
   ]
  },
  {
   "cell_type": "markdown",
   "id": "683e4c3a-5aad-4702-af6f-f6af40c1979d",
   "metadata": {},
   "source": [
    "In this notebook, Data Science Tools and Ecosystem are summarized.\n",
    " "
   ]
  },
  {
   "cell_type": "markdown",
   "id": "5b498ebe-a1eb-4e37-bf21-497ddfa7d193",
   "metadata": {},
   "source": [
    "**Objectives**\n",
    "\n",
    "* List data science languages\n",
    "* List data science Libraries\n",
    "* List tools of data science\n",
    "* run code\n",
    "* example of arithmetic calculation"
   ]
  },
  {
   "cell_type": "markdown",
   "id": "0371a679-d258-4462-8fdd-ef9ed4812c10",
   "metadata": {},
   "source": [
    "Some of the popular languages that Data Scientists use are:\n",
    "\n",
    "    1.python\n",
    "    2.R\n",
    "    3.SQL\n",
    "    4.scala \n",
    "    5.Java\n",
    "    6. julia\n",
    "    7. C++\n",
    "    8. Javascript\n",
    "    9. Ruby\n",
    "    10.PHP\n",
    "    11.GO\n",
    "    12.Visual basic\n",
    "    "
   ]
  },
  {
   "cell_type": "markdown",
   "id": "7d043f78-6d4a-4b6d-9330-efb7b097f9a6",
   "metadata": {},
   "source": [
    "Some of the commonly used libraries used by Data Scientists include:\n",
    "\n",
    "* Keras\n",
    "* Pandas\n",
    "* tensorflow\n",
    "* matplotlib\n",
    "* seaborn\n",
    "* Sci-kit learn\n",
    "* nympy\n",
    "* scipy\n",
    "* Spark\n",
    "\n",
    "\n",
    "\n",
    "\n"
   ]
  },
  {
   "cell_type": "markdown",
   "id": "66f77127-b6af-46ae-9080-bf189eba4e71",
   "metadata": {},
   "source": [
    "\n",
    "Data science tools that could be used.\n",
    "\n",
    "\n",
    "    \n",
    "Data Science Tools |\n",
    "| ------ |\n",
    "| Jupyter notebooks | \n",
    "| ------ |\n",
    "| Watson studio | \n",
    "| ------ |\n",
    "|R Studio IDE | \n",
    "| ------ |\n",
    "| GitHub |\n",
    "| ------ |\n"
   ]
  },
  {
   "cell_type": "markdown",
   "id": "87b0b644-ca4e-4ce0-b389-b3b4de46e23e",
   "metadata": {},
   "source": [
    "### Below are a few examples of evaluating arithmetic expressions in Python"
   ]
  },
  {
   "cell_type": "markdown",
   "id": "43f29771-ef07-4a77-a0ab-276470d906ae",
   "metadata": {},
   "source": [
    "This a simple arithmetic expression to mutiply then add integers"
   ]
  },
  {
   "cell_type": "code",
   "execution_count": 5,
   "id": "c6100ced-c145-4c26-9c6a-b958ecb46313",
   "metadata": {},
   "outputs": [
    {
     "data": {
      "text/plain": [
       "17"
      ]
     },
     "execution_count": 5,
     "metadata": {},
     "output_type": "execute_result"
    }
   ],
   "source": [
    "(3*4)+5"
   ]
  },
  {
   "cell_type": "markdown",
   "id": "c77b1327-265a-4b80-acf7-e4532cdf788a",
   "metadata": {},
   "source": [
    "This will convert 200 minutes to hours by diving by 60"
   ]
  },
  {
   "cell_type": "code",
   "execution_count": 7,
   "id": "ac526c3f-809d-4807-9e45-975cef67ba37",
   "metadata": {},
   "outputs": [
    {
     "data": {
      "text/plain": [
       "3.3333333333333335"
      ]
     },
     "execution_count": 7,
     "metadata": {},
     "output_type": "execute_result"
    }
   ],
   "source": [
    "200/60"
   ]
  },
  {
   "cell_type": "markdown",
   "id": "063b4a25-2e8f-42b3-8b08-572d4c24c28c",
   "metadata": {},
   "source": [
    "## Author\n",
    "Shaunak Dixit"
   ]
  },
  {
   "cell_type": "code",
   "execution_count": null,
   "id": "79e4a6c3-500e-4304-bdbd-95f71827c913",
   "metadata": {},
   "outputs": [],
   "source": []
  }
 ],
 "metadata": {
  "kernelspec": {
   "display_name": "Python",
   "language": "python",
   "name": "conda-env-python-py"
  },
  "language_info": {
   "codemirror_mode": {
    "name": "ipython",
    "version": 3
   },
   "file_extension": ".py",
   "mimetype": "text/x-python",
   "name": "python",
   "nbconvert_exporter": "python",
   "pygments_lexer": "ipython3",
   "version": "3.7.12"
  }
 },
 "nbformat": 4,
 "nbformat_minor": 5
}
